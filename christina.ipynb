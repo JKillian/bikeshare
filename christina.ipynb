{
 "cells": [
  {
   "cell_type": "code",
   "execution_count": 41,
   "metadata": {
    "collapsed": false
   },
   "outputs": [],
   "source": [
    "import pandas as pd\n",
    "import datetime\n",
    "import matplotlib.pyplot as plt"
   ]
  },
  {
   "cell_type": "code",
   "execution_count": 42,
   "metadata": {
    "collapsed": true
   },
   "outputs": [],
   "source": [
    "train = pd.read_csv('data/train.csv',parse_dates='datetime',index_col='datetime')\n",
    "test = pd.read_csv('data/test.csv',parse_dates='datetime',index_col='datetime')"
   ]
  },
  {
   "cell_type": "code",
   "execution_count": 43,
   "metadata": {
    "collapsed": false,
    "scrolled": true
   },
   "outputs": [
    {
     "data": {
      "text/html": [
       "<div style=\"max-height:1000px;max-width:1500px;overflow:auto;\">\n",
       "<table border=\"1\" class=\"dataframe\">\n",
       "  <thead>\n",
       "    <tr style=\"text-align: right;\">\n",
       "      <th></th>\n",
       "      <th>season</th>\n",
       "      <th>holiday</th>\n",
       "      <th>workingday</th>\n",
       "      <th>weather</th>\n",
       "      <th>temp</th>\n",
       "      <th>atemp</th>\n",
       "      <th>humidity</th>\n",
       "      <th>windspeed</th>\n",
       "      <th>casual</th>\n",
       "      <th>registered</th>\n",
       "      <th>count</th>\n",
       "    </tr>\n",
       "    <tr>\n",
       "      <th>datetime</th>\n",
       "      <th></th>\n",
       "      <th></th>\n",
       "      <th></th>\n",
       "      <th></th>\n",
       "      <th></th>\n",
       "      <th></th>\n",
       "      <th></th>\n",
       "      <th></th>\n",
       "      <th></th>\n",
       "      <th></th>\n",
       "      <th></th>\n",
       "    </tr>\n",
       "  </thead>\n",
       "  <tbody>\n",
       "    <tr>\n",
       "      <th>2011-01-01 00:00:00</th>\n",
       "      <td> 1</td>\n",
       "      <td> 0</td>\n",
       "      <td> 0</td>\n",
       "      <td> 1</td>\n",
       "      <td> 9.84</td>\n",
       "      <td> 14.395</td>\n",
       "      <td> 81</td>\n",
       "      <td> 0</td>\n",
       "      <td> 3</td>\n",
       "      <td> 13</td>\n",
       "      <td> 16</td>\n",
       "    </tr>\n",
       "    <tr>\n",
       "      <th>2011-01-01 01:00:00</th>\n",
       "      <td> 1</td>\n",
       "      <td> 0</td>\n",
       "      <td> 0</td>\n",
       "      <td> 1</td>\n",
       "      <td> 9.02</td>\n",
       "      <td> 13.635</td>\n",
       "      <td> 80</td>\n",
       "      <td> 0</td>\n",
       "      <td> 8</td>\n",
       "      <td> 32</td>\n",
       "      <td> 40</td>\n",
       "    </tr>\n",
       "    <tr>\n",
       "      <th>2011-01-01 02:00:00</th>\n",
       "      <td> 1</td>\n",
       "      <td> 0</td>\n",
       "      <td> 0</td>\n",
       "      <td> 1</td>\n",
       "      <td> 9.02</td>\n",
       "      <td> 13.635</td>\n",
       "      <td> 80</td>\n",
       "      <td> 0</td>\n",
       "      <td> 5</td>\n",
       "      <td> 27</td>\n",
       "      <td> 32</td>\n",
       "    </tr>\n",
       "    <tr>\n",
       "      <th>2011-01-01 03:00:00</th>\n",
       "      <td> 1</td>\n",
       "      <td> 0</td>\n",
       "      <td> 0</td>\n",
       "      <td> 1</td>\n",
       "      <td> 9.84</td>\n",
       "      <td> 14.395</td>\n",
       "      <td> 75</td>\n",
       "      <td> 0</td>\n",
       "      <td> 3</td>\n",
       "      <td> 10</td>\n",
       "      <td> 13</td>\n",
       "    </tr>\n",
       "    <tr>\n",
       "      <th>2011-01-01 04:00:00</th>\n",
       "      <td> 1</td>\n",
       "      <td> 0</td>\n",
       "      <td> 0</td>\n",
       "      <td> 1</td>\n",
       "      <td> 9.84</td>\n",
       "      <td> 14.395</td>\n",
       "      <td> 75</td>\n",
       "      <td> 0</td>\n",
       "      <td> 0</td>\n",
       "      <td>  1</td>\n",
       "      <td>  1</td>\n",
       "    </tr>\n",
       "  </tbody>\n",
       "</table>\n",
       "</div>"
      ],
      "text/plain": [
       "                     season  holiday  workingday  weather  temp   atemp  \\\n",
       "datetime                                                                  \n",
       "2011-01-01 00:00:00       1        0           0        1  9.84  14.395   \n",
       "2011-01-01 01:00:00       1        0           0        1  9.02  13.635   \n",
       "2011-01-01 02:00:00       1        0           0        1  9.02  13.635   \n",
       "2011-01-01 03:00:00       1        0           0        1  9.84  14.395   \n",
       "2011-01-01 04:00:00       1        0           0        1  9.84  14.395   \n",
       "\n",
       "                     humidity  windspeed  casual  registered  count  \n",
       "datetime                                                             \n",
       "2011-01-01 00:00:00        81          0       3          13     16  \n",
       "2011-01-01 01:00:00        80          0       8          32     40  \n",
       "2011-01-01 02:00:00        80          0       5          27     32  \n",
       "2011-01-01 03:00:00        75          0       3          10     13  \n",
       "2011-01-01 04:00:00        75          0       0           1      1  "
      ]
     },
     "execution_count": 43,
     "metadata": {},
     "output_type": "execute_result"
    }
   ],
   "source": [
    "train[:5]"
   ]
  },
  {
   "cell_type": "code",
   "execution_count": 44,
   "metadata": {
    "collapsed": false
   },
   "outputs": [
    {
     "data": {
      "text/html": [
       "<div style=\"max-height:1000px;max-width:1500px;overflow:auto;\">\n",
       "<table border=\"1\" class=\"dataframe\">\n",
       "  <thead>\n",
       "    <tr style=\"text-align: right;\">\n",
       "      <th></th>\n",
       "      <th>season</th>\n",
       "      <th>holiday</th>\n",
       "      <th>workingday</th>\n",
       "      <th>weather</th>\n",
       "      <th>temp</th>\n",
       "      <th>atemp</th>\n",
       "      <th>humidity</th>\n",
       "      <th>windspeed</th>\n",
       "    </tr>\n",
       "    <tr>\n",
       "      <th>datetime</th>\n",
       "      <th></th>\n",
       "      <th></th>\n",
       "      <th></th>\n",
       "      <th></th>\n",
       "      <th></th>\n",
       "      <th></th>\n",
       "      <th></th>\n",
       "      <th></th>\n",
       "    </tr>\n",
       "  </thead>\n",
       "  <tbody>\n",
       "    <tr>\n",
       "      <th>2011-01-20 00:00:00</th>\n",
       "      <td> 1</td>\n",
       "      <td> 0</td>\n",
       "      <td> 1</td>\n",
       "      <td> 1</td>\n",
       "      <td> 10.66</td>\n",
       "      <td> 11.365</td>\n",
       "      <td> 56</td>\n",
       "      <td> 26.0027</td>\n",
       "    </tr>\n",
       "    <tr>\n",
       "      <th>2011-01-20 01:00:00</th>\n",
       "      <td> 1</td>\n",
       "      <td> 0</td>\n",
       "      <td> 1</td>\n",
       "      <td> 1</td>\n",
       "      <td> 10.66</td>\n",
       "      <td> 13.635</td>\n",
       "      <td> 56</td>\n",
       "      <td>  0.0000</td>\n",
       "    </tr>\n",
       "    <tr>\n",
       "      <th>2011-01-20 02:00:00</th>\n",
       "      <td> 1</td>\n",
       "      <td> 0</td>\n",
       "      <td> 1</td>\n",
       "      <td> 1</td>\n",
       "      <td> 10.66</td>\n",
       "      <td> 13.635</td>\n",
       "      <td> 56</td>\n",
       "      <td>  0.0000</td>\n",
       "    </tr>\n",
       "    <tr>\n",
       "      <th>2011-01-20 03:00:00</th>\n",
       "      <td> 1</td>\n",
       "      <td> 0</td>\n",
       "      <td> 1</td>\n",
       "      <td> 1</td>\n",
       "      <td> 10.66</td>\n",
       "      <td> 12.880</td>\n",
       "      <td> 56</td>\n",
       "      <td> 11.0014</td>\n",
       "    </tr>\n",
       "    <tr>\n",
       "      <th>2011-01-20 04:00:00</th>\n",
       "      <td> 1</td>\n",
       "      <td> 0</td>\n",
       "      <td> 1</td>\n",
       "      <td> 1</td>\n",
       "      <td> 10.66</td>\n",
       "      <td> 12.880</td>\n",
       "      <td> 56</td>\n",
       "      <td> 11.0014</td>\n",
       "    </tr>\n",
       "  </tbody>\n",
       "</table>\n",
       "</div>"
      ],
      "text/plain": [
       "                     season  holiday  workingday  weather   temp   atemp  \\\n",
       "datetime                                                                   \n",
       "2011-01-20 00:00:00       1        0           1        1  10.66  11.365   \n",
       "2011-01-20 01:00:00       1        0           1        1  10.66  13.635   \n",
       "2011-01-20 02:00:00       1        0           1        1  10.66  13.635   \n",
       "2011-01-20 03:00:00       1        0           1        1  10.66  12.880   \n",
       "2011-01-20 04:00:00       1        0           1        1  10.66  12.880   \n",
       "\n",
       "                     humidity  windspeed  \n",
       "datetime                                  \n",
       "2011-01-20 00:00:00        56    26.0027  \n",
       "2011-01-20 01:00:00        56     0.0000  \n",
       "2011-01-20 02:00:00        56     0.0000  \n",
       "2011-01-20 03:00:00        56    11.0014  \n",
       "2011-01-20 04:00:00        56    11.0014  "
      ]
     },
     "execution_count": 44,
     "metadata": {},
     "output_type": "execute_result"
    }
   ],
   "source": [
    "test[:5]"
   ]
  },
  {
   "cell_type": "code",
   "execution_count": 45,
   "metadata": {
    "collapsed": true
   },
   "outputs": [],
   "source": [
    "train['hour'] = train.index.hour\n",
    "train['month'] = train.index.month\n",
    "train['year'] = train.index.year - 2011\n",
    "train['day_of_week'] = train.index.weekday\n",
    "train[:3]\n",
    "test['hour'] = test.index.hour\n",
    "test['month'] = test.index.month\n",
    "test['year'] = test.index.year - 2011\n",
    "test['day_of_week'] = test.index.weekday"
   ]
  },
  {
   "cell_type": "code",
   "execution_count": 46,
   "metadata": {
    "collapsed": true
   },
   "outputs": [],
   "source": [
    "from sklearn.linear_model import Lasso"
   ]
  },
  {
   "cell_type": "code",
   "execution_count": 47,
   "metadata": {
    "collapsed": false
   },
   "outputs": [],
   "source": [
    "clf = Lasso()"
   ]
  },
  {
   "cell_type": "code",
   "execution_count": 48,
   "metadata": {
    "collapsed": true
   },
   "outputs": [],
   "source": [
    "clf.fit(train['atemp'],train['count']);"
   ]
  },
  {
   "cell_type": "code",
   "execution_count": 49,
   "metadata": {
    "collapsed": false
   },
   "outputs": [],
   "source": [
    "prediction = clf.predict(train['count'])"
   ]
  },
  {
   "cell_type": "code",
   "execution_count": 50,
   "metadata": {
    "collapsed": false
   },
   "outputs": [
    {
     "name": "stdout",
     "output_type": "stream",
     "text": [
      "191.574131913\n"
     ]
    }
   ],
   "source": [
    "print prediction"
   ]
  },
  {
   "cell_type": "code",
   "execution_count": 51,
   "metadata": {
    "collapsed": false
   },
   "outputs": [
    {
     "name": "stdout",
     "output_type": "stream",
     "text": [
      "163.723867294\n"
     ]
    }
   ],
   "source": [
    "import numpy as np\n",
    "def error(predictions,actual):\n",
    "    print predictions[:10]\n",
    "    print np.array(actual)[:10]\n",
    "    err = 0\n",
    "    for i, pred in enumerate(predictions):\n",
    "        err += (np.log1p(pred)-np.log1p(actual[i]))**2\n",
    "    J = (err/len(predictions))**.5\n",
    "    return J\n",
    "\n",
    "err=0\n",
    "for i in train['count']:\n",
    "    err += (np.log1p(prediction)-np.log1p(i))**2\n",
    "\n",
    "print (err/1)**.5\n",
    "#print error(prediction, train['count'])"
   ]
  },
  {
   "cell_type": "code",
   "execution_count": 52,
   "metadata": {
    "collapsed": false
   },
   "outputs": [
    {
     "name": "stdout",
     "output_type": "stream",
     "text": [
      "163.723867294\n"
     ]
    }
   ],
   "source": [
    "import numpy as np\n",
    "humidity = Lasso()\n",
    "humidity.fit(train['humidity'],train['count'])\n",
    "hPredict = humidity.predict(train['count'])\n",
    "err=0\n",
    "for i in train['count']:\n",
    "    err += (np.log1p(hPredict)-np.log1p(i))**2\n",
    "\n",
    "print (err/1)**.5"
   ]
  },
  {
   "cell_type": "code",
   "execution_count": 53,
   "metadata": {
    "collapsed": false
   },
   "outputs": [
    {
     "name": "stdout",
     "output_type": "stream",
     "text": [
      "sklearn.cross_validation.KFold(n=10886, n_folds=5, shuffle=True, random_state=None)\n"
     ]
    }
   ],
   "source": [
    "from sklearn import cross_validation\n",
    "kf = cross_validation.KFold(len(train),5,shuffle=True)\n",
    "print kf"
   ]
  },
  {
   "cell_type": "code",
   "execution_count": 54,
   "metadata": {
    "collapsed": false
   },
   "outputs": [
    {
     "data": {
      "text/plain": [
       "Lasso(alpha=1.0, copy_X=True, fit_intercept=True, max_iter=1000,\n",
       "   normalize=False, positive=False, precompute='auto', tol=0.0001,\n",
       "   warm_start=False)"
      ]
     },
     "execution_count": 54,
     "metadata": {},
     "output_type": "execute_result"
    }
   ],
   "source": [
    "import numpy as np\n",
    "twoFeats = Lasso()\n",
    "features = ['humidity', 'atemp']\n",
    "twoFeats.fit(train[features],train['count'])\n",
    "#predict = twoFeats.predict(train['count'])"
   ]
  },
  {
   "cell_type": "code",
   "execution_count": 55,
   "metadata": {
    "collapsed": false
   },
   "outputs": [
    {
     "data": {
      "text/plain": [
       "Lasso(alpha=1.0, copy_X=True, fit_intercept=True, max_iter=1000,\n",
       "   normalize=False, positive=False, precompute='auto', tol=0.0001,\n",
       "   warm_start=False)"
      ]
     },
     "execution_count": 55,
     "metadata": {},
     "output_type": "execute_result"
    }
   ],
   "source": [
    "twoFeats"
   ]
  },
  {
   "cell_type": "code",
   "execution_count": 56,
   "metadata": {
    "collapsed": false
   },
   "outputs": [],
   "source": [
    "predict = twoFeats.predict(train[features])"
   ]
  },
  {
   "cell_type": "code",
   "execution_count": 57,
   "metadata": {
    "collapsed": false
   },
   "outputs": [
    {
     "name": "stdout",
     "output_type": "stream",
     "text": [
      "<class 'pandas.tseries.index.DatetimeIndex'>\n",
      "[2011-01-20 00:00:00, ..., 2012-12-31 23:00:00]\n",
      "Length: 6493, Freq: None, Timezone: None\n"
     ]
    }
   ],
   "source": [
    "print test.index"
   ]
  },
  {
   "cell_type": "code",
   "execution_count": 58,
   "metadata": {
    "collapsed": false
   },
   "outputs": [
    {
     "data": {
      "text/plain": [
       "datetime\n",
       "2011-01-01 00:00:00     16\n",
       "2011-01-01 01:00:00     40\n",
       "2011-01-01 02:00:00     32\n",
       "2011-01-01 03:00:00     13\n",
       "2011-01-01 04:00:00      1\n",
       "2011-01-01 05:00:00      1\n",
       "2011-01-01 06:00:00      2\n",
       "2011-01-01 07:00:00      3\n",
       "2011-01-01 08:00:00      8\n",
       "2011-01-01 09:00:00     14\n",
       "2011-01-01 10:00:00     36\n",
       "2011-01-01 11:00:00     56\n",
       "2011-01-01 12:00:00     84\n",
       "2011-01-01 13:00:00     94\n",
       "2011-01-01 14:00:00    106\n",
       "...\n",
       "2012-12-19 09:00:00    317\n",
       "2012-12-19 10:00:00    164\n",
       "2012-12-19 11:00:00    200\n",
       "2012-12-19 12:00:00    236\n",
       "2012-12-19 13:00:00    213\n",
       "2012-12-19 14:00:00    218\n",
       "2012-12-19 15:00:00    237\n",
       "2012-12-19 16:00:00    334\n",
       "2012-12-19 17:00:00    562\n",
       "2012-12-19 18:00:00    569\n",
       "2012-12-19 19:00:00    336\n",
       "2012-12-19 20:00:00    241\n",
       "2012-12-19 21:00:00    168\n",
       "2012-12-19 22:00:00    129\n",
       "2012-12-19 23:00:00     88\n",
       "Name: count, Length: 10886"
      ]
     },
     "execution_count": 58,
     "metadata": {},
     "output_type": "execute_result"
    }
   ],
   "source": [
    "train['count']"
   ]
  },
  {
   "cell_type": "code",
   "execution_count": 59,
   "metadata": {
    "collapsed": false
   },
   "outputs": [
    {
     "name": "stdout",
     "output_type": "stream",
     "text": [
      "[  63.04235387   59.76404353   59.76404353   80.02519961   80.02519961\n",
      "   67.84781973   59.76404353   36.71260254   80.02519961  101.54948508]\n",
      "[16 40 32 13  1  1  2  3  8 14]\n"
     ]
    },
    {
     "data": {
      "text/plain": [
       "nan"
      ]
     },
     "execution_count": 59,
     "metadata": {},
     "output_type": "execute_result"
    }
   ],
   "source": [
    "error(predict, train['count'])"
   ]
  },
  {
   "cell_type": "code",
   "execution_count": 60,
   "metadata": {
    "collapsed": true
   },
   "outputs": [],
   "source": [
    "predict[predict < 0] = 0"
   ]
  },
  {
   "cell_type": "code",
   "execution_count": 61,
   "metadata": {
    "collapsed": false
   },
   "outputs": [
    {
     "name": "stdout",
     "output_type": "stream",
     "text": [
      "[  63.04235387   59.76404353   59.76404353   80.02519961   80.02519961\n",
      "   67.84781973   59.76404353   36.71260254   80.02519961  101.54948508]\n",
      "[16 40 32 13  1  1  2  3  8 14]\n"
     ]
    },
    {
     "data": {
      "text/plain": [
       "1.3921726746499172"
      ]
     },
     "execution_count": 61,
     "metadata": {},
     "output_type": "execute_result"
    }
   ],
   "source": [
    "error(predict, train['count'])"
   ]
  },
  {
   "cell_type": "code",
   "execution_count": 62,
   "metadata": {
    "collapsed": false
   },
   "outputs": [],
   "source": [
    "threeFeats = Lasso()"
   ]
  },
  {
   "cell_type": "code",
   "execution_count": 70,
   "metadata": {
    "collapsed": false
   },
   "outputs": [],
   "source": [
    "#tdf = pd.DataFrame(data=predict, index=test.index,columns=['count'])"
   ]
  },
  {
   "cell_type": "code",
   "execution_count": null,
   "metadata": {
    "collapsed": true
   },
   "outputs": [],
   "source": [
    "tdf.to_csv('results.csv')"
   ]
  },
  {
   "cell_type": "code",
   "execution_count": null,
   "metadata": {
    "collapsed": true
   },
   "outputs": [],
   "source": []
  }
 ],
 "metadata": {
  "kernelspec": {
   "display_name": "Python 2",
   "language": "python",
   "name": "python2"
  },
  "language_info": {
   "codemirror_mode": {
    "name": "ipython",
    "version": 2
   },
   "file_extension": ".py",
   "mimetype": "text/x-python",
   "name": "python",
   "nbconvert_exporter": "python",
   "pygments_lexer": "ipython2",
   "version": "2.7.9"
  }
 },
 "nbformat": 4,
 "nbformat_minor": 0
}
